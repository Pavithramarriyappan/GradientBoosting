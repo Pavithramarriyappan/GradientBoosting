{
 "cells": [
  {
   "cell_type": "code",
   "execution_count": 1,
   "id": "cc3773b6",
   "metadata": {},
   "outputs": [],
   "source": [
    "import pandas as pd\n",
    "import numpy as np\n",
    "import matplotlib as mlp\n",
    "import matplotlib.pyplot as plt\n",
    "import seaborn as sns\n",
    "import sklearn as sk\n",
    "%matplotlib inline\n"
   ]
  },
  {
   "cell_type": "code",
   "execution_count": 2,
   "id": "c3d3717f",
   "metadata": {},
   "outputs": [],
   "source": [
    "student=pd.read_csv(\"Student Attitude and Behavior - Gradient boost.csv\")"
   ]
  },
  {
   "cell_type": "code",
   "execution_count": 3,
   "id": "5438aa33",
   "metadata": {},
   "outputs": [
    {
     "data": {
      "text/plain": [
       "(235, 19)"
      ]
     },
     "execution_count": 3,
     "metadata": {},
     "output_type": "execute_result"
    }
   ],
   "source": [
    "student.shape"
   ]
  },
  {
   "cell_type": "code",
   "execution_count": 4,
   "id": "98e68235",
   "metadata": {},
   "outputs": [
    {
     "data": {
      "text/html": [
       "<div>\n",
       "<style scoped>\n",
       "    .dataframe tbody tr th:only-of-type {\n",
       "        vertical-align: middle;\n",
       "    }\n",
       "\n",
       "    .dataframe tbody tr th {\n",
       "        vertical-align: top;\n",
       "    }\n",
       "\n",
       "    .dataframe thead th {\n",
       "        text-align: right;\n",
       "    }\n",
       "</style>\n",
       "<table border=\"1\" class=\"dataframe\">\n",
       "  <thead>\n",
       "    <tr style=\"text-align: right;\">\n",
       "      <th></th>\n",
       "      <th>Certification Course</th>\n",
       "      <th>Gender</th>\n",
       "      <th>Department</th>\n",
       "      <th>Height(CM)</th>\n",
       "      <th>Weight(KG)</th>\n",
       "      <th>10th Mark</th>\n",
       "      <th>12th Mark</th>\n",
       "      <th>college mark</th>\n",
       "      <th>hobbies</th>\n",
       "      <th>daily studing time</th>\n",
       "      <th>prefer to study in</th>\n",
       "      <th>salary expectation</th>\n",
       "      <th>Do you like your degree?</th>\n",
       "      <th>willingness to pursue a career based on their degree</th>\n",
       "      <th>social medai &amp; video</th>\n",
       "      <th>Travelling Time</th>\n",
       "      <th>Stress Level</th>\n",
       "      <th>Financial Status</th>\n",
       "      <th>part-time job</th>\n",
       "    </tr>\n",
       "  </thead>\n",
       "  <tbody>\n",
       "    <tr>\n",
       "      <th>0</th>\n",
       "      <td>No</td>\n",
       "      <td>Male</td>\n",
       "      <td>BCA</td>\n",
       "      <td>100.0</td>\n",
       "      <td>58.0</td>\n",
       "      <td>79.0</td>\n",
       "      <td>64.0</td>\n",
       "      <td>80.0</td>\n",
       "      <td>Video Games</td>\n",
       "      <td>0 - 30 minute</td>\n",
       "      <td>Morning</td>\n",
       "      <td>40000</td>\n",
       "      <td>No</td>\n",
       "      <td>50%</td>\n",
       "      <td>1.30 - 2 hour</td>\n",
       "      <td>30 - 60 minutes</td>\n",
       "      <td>Bad</td>\n",
       "      <td>Bad</td>\n",
       "      <td>No</td>\n",
       "    </tr>\n",
       "    <tr>\n",
       "      <th>1</th>\n",
       "      <td>No</td>\n",
       "      <td>Female</td>\n",
       "      <td>BCA</td>\n",
       "      <td>90.0</td>\n",
       "      <td>40.0</td>\n",
       "      <td>70.0</td>\n",
       "      <td>80.0</td>\n",
       "      <td>70.0</td>\n",
       "      <td>Cinema</td>\n",
       "      <td>30 - 60 minute</td>\n",
       "      <td>Morning</td>\n",
       "      <td>15000</td>\n",
       "      <td>Yes</td>\n",
       "      <td>75%</td>\n",
       "      <td>1 - 1.30 hour</td>\n",
       "      <td>0 - 30 minutes</td>\n",
       "      <td>Bad</td>\n",
       "      <td>Bad</td>\n",
       "      <td>No</td>\n",
       "    </tr>\n",
       "    <tr>\n",
       "      <th>2</th>\n",
       "      <td>Yes</td>\n",
       "      <td>Male</td>\n",
       "      <td>BCA</td>\n",
       "      <td>159.0</td>\n",
       "      <td>78.0</td>\n",
       "      <td>71.0</td>\n",
       "      <td>61.0</td>\n",
       "      <td>55.0</td>\n",
       "      <td>Cinema</td>\n",
       "      <td>1 - 2 Hour</td>\n",
       "      <td>Anytime</td>\n",
       "      <td>13000</td>\n",
       "      <td>Yes</td>\n",
       "      <td>50%</td>\n",
       "      <td>More than 2 hour</td>\n",
       "      <td>30 - 60 minutes</td>\n",
       "      <td>Awful</td>\n",
       "      <td>Bad</td>\n",
       "      <td>No</td>\n",
       "    </tr>\n",
       "    <tr>\n",
       "      <th>3</th>\n",
       "      <td>Yes</td>\n",
       "      <td>Female</td>\n",
       "      <td>BCA</td>\n",
       "      <td>147.0</td>\n",
       "      <td>20.0</td>\n",
       "      <td>70.0</td>\n",
       "      <td>59.0</td>\n",
       "      <td>58.0</td>\n",
       "      <td>Reading books</td>\n",
       "      <td>1 - 2 Hour</td>\n",
       "      <td>Anytime</td>\n",
       "      <td>1500000</td>\n",
       "      <td>No</td>\n",
       "      <td>50%</td>\n",
       "      <td>1.30 - 2 hour</td>\n",
       "      <td>0 - 30 minutes</td>\n",
       "      <td>Bad</td>\n",
       "      <td>good</td>\n",
       "      <td>No</td>\n",
       "    </tr>\n",
       "    <tr>\n",
       "      <th>4</th>\n",
       "      <td>No</td>\n",
       "      <td>Male</td>\n",
       "      <td>BCA</td>\n",
       "      <td>170.0</td>\n",
       "      <td>54.0</td>\n",
       "      <td>40.0</td>\n",
       "      <td>65.0</td>\n",
       "      <td>30.0</td>\n",
       "      <td>Video Games</td>\n",
       "      <td>30 - 60 minute</td>\n",
       "      <td>Morning</td>\n",
       "      <td>50000</td>\n",
       "      <td>Yes</td>\n",
       "      <td>25%</td>\n",
       "      <td>1.30 - 2 hour</td>\n",
       "      <td>30 - 60 minutes</td>\n",
       "      <td>Good</td>\n",
       "      <td>good</td>\n",
       "      <td>No</td>\n",
       "    </tr>\n",
       "  </tbody>\n",
       "</table>\n",
       "</div>"
      ],
      "text/plain": [
       "  Certification Course  Gender Department  Height(CM)  Weight(KG)  10th Mark  \\\n",
       "0                   No    Male        BCA       100.0        58.0       79.0   \n",
       "1                   No  Female        BCA        90.0        40.0       70.0   \n",
       "2                  Yes    Male        BCA       159.0        78.0       71.0   \n",
       "3                  Yes  Female        BCA       147.0        20.0       70.0   \n",
       "4                   No    Male        BCA       170.0        54.0       40.0   \n",
       "\n",
       "   12th Mark  college mark        hobbies daily studing time  \\\n",
       "0       64.0          80.0    Video Games      0 - 30 minute   \n",
       "1       80.0          70.0         Cinema     30 - 60 minute   \n",
       "2       61.0          55.0         Cinema         1 - 2 Hour   \n",
       "3       59.0          58.0  Reading books         1 - 2 Hour   \n",
       "4       65.0          30.0    Video Games     30 - 60 minute   \n",
       "\n",
       "  prefer to study in  salary expectation Do you like your degree?  \\\n",
       "0            Morning               40000                       No   \n",
       "1            Morning               15000                      Yes   \n",
       "2            Anytime               13000                      Yes   \n",
       "3            Anytime             1500000                       No   \n",
       "4            Morning               50000                      Yes   \n",
       "\n",
       "  willingness to pursue a career based on their degree   social medai & video  \\\n",
       "0                                                50%            1.30 - 2 hour   \n",
       "1                                                75%            1 - 1.30 hour   \n",
       "2                                                50%         More than 2 hour   \n",
       "3                                                50%            1.30 - 2 hour   \n",
       "4                                                25%            1.30 - 2 hour   \n",
       "\n",
       "  Travelling Time  Stress Level  Financial Status part-time job  \n",
       "0  30 - 60 minutes           Bad              Bad            No  \n",
       "1   0 - 30 minutes           Bad              Bad            No  \n",
       "2  30 - 60 minutes         Awful              Bad            No  \n",
       "3   0 - 30 minutes           Bad             good            No  \n",
       "4  30 - 60 minutes          Good             good            No  "
      ]
     },
     "execution_count": 4,
     "metadata": {},
     "output_type": "execute_result"
    }
   ],
   "source": [
    "student.head(5)"
   ]
  },
  {
   "cell_type": "code",
   "execution_count": 5,
   "id": "4b1e4d3e",
   "metadata": {},
   "outputs": [
    {
     "data": {
      "text/plain": [
       "Certification Course                                       object\n",
       "Gender                                                     object\n",
       "Department                                                 object\n",
       "Height(CM)                                                float64\n",
       "Weight(KG)                                                float64\n",
       "10th Mark                                                 float64\n",
       "12th Mark                                                 float64\n",
       "college mark                                              float64\n",
       "hobbies                                                    object\n",
       "daily studing time                                         object\n",
       "prefer to study in                                         object\n",
       "salary expectation                                          int64\n",
       "Do you like your degree?                                   object\n",
       "willingness to pursue a career based on their degree       object\n",
       "social medai & video                                       object\n",
       "Travelling Time                                            object\n",
       "Stress Level                                               object\n",
       "Financial Status                                           object\n",
       "part-time job                                              object\n",
       "dtype: object"
      ]
     },
     "execution_count": 5,
     "metadata": {},
     "output_type": "execute_result"
    }
   ],
   "source": [
    "student.dtypes"
   ]
  },
  {
   "cell_type": "code",
   "execution_count": 6,
   "id": "fb4c459d",
   "metadata": {},
   "outputs": [
    {
     "data": {
      "text/plain": [
       "Certification Course                                      0\n",
       "Gender                                                    0\n",
       "Department                                                0\n",
       "Height(CM)                                                0\n",
       "Weight(KG)                                                0\n",
       "10th Mark                                                 0\n",
       "12th Mark                                                 0\n",
       "college mark                                              0\n",
       "hobbies                                                   0\n",
       "daily studing time                                        0\n",
       "prefer to study in                                        0\n",
       "salary expectation                                        0\n",
       "Do you like your degree?                                  0\n",
       "willingness to pursue a career based on their degree      0\n",
       "social medai & video                                      0\n",
       "Travelling Time                                           0\n",
       "Stress Level                                              0\n",
       "Financial Status                                          0\n",
       "part-time job                                             0\n",
       "dtype: int64"
      ]
     },
     "execution_count": 6,
     "metadata": {},
     "output_type": "execute_result"
    }
   ],
   "source": [
    "student.isnull().sum()"
   ]
  },
  {
   "cell_type": "code",
   "execution_count": 7,
   "id": "56688b17",
   "metadata": {},
   "outputs": [
    {
     "data": {
      "text/plain": [
       "<Axes: xlabel='prefer to study in', ylabel='12th Mark'>"
      ]
     },
     "execution_count": 7,
     "metadata": {},
     "output_type": "execute_result"
    },
    {
     "data": {
      "image/png": "[encoded data removed]",
      "text/plain": [
       "<Figure size 640x480 with 1 Axes>"
      ]
     },
     "metadata": {},
     "output_type": "display_data"
    }
   ],
   "source": [
    "sns.barplot(x=student['prefer to study in'],y=student['12th Mark'])"
   ]
  },
  {
   "cell_type": "code",
   "execution_count": 8,
   "id": "4eb289b2",
   "metadata": {},
   "outputs": [
    {
     "data": {
      "text/plain": [
       "array(['No', 'Yes'], dtype=object)"
      ]
     },
     "execution_count": 8,
     "metadata": {},
     "output_type": "execute_result"
    }
   ],
   "source": [
    "student['Certification Course'].unique()"
   ]
  },
  {
   "cell_type": "code",
   "execution_count": 9,
   "id": "91d96f2a",
   "metadata": {},
   "outputs": [
    {
     "data": {
      "text/plain": [
       "<Axes: xlabel='Certification Course', ylabel='salary expectation'>"
      ]
     },
     "execution_count": 9,
     "metadata": {},
     "output_type": "execute_result"
    },
    {
     "data": {
      "image/png": "[encoded data removed]",
      "text/plain": [
       "<Figure size 640x480 with 1 Axes>"
      ]
     },
     "metadata": {},
     "output_type": "display_data"
    }
   ],
   "source": [
    "sns.violinplot(y=student['salary expectation'],x=student['Certification Course'])"
   ]
  },
  {
   "cell_type": "code",
   "execution_count": 10,
   "id": "c38e0be3",
   "metadata": {},
   "outputs": [
    {
     "data": {
      "text/plain": [
       "<Axes: xlabel='Department', ylabel='college mark'>"
      ]
     },
     "execution_count": 10,
     "metadata": {},
     "output_type": "execute_result"
    },
    {
     "data": {
      "image/png": "[encoded data removed]",
      "text/plain": [
       "<Figure size 1000x500 with 1 Axes>"
      ]
     },
     "metadata": {},
     "output_type": "display_data"
    }
   ],
   "source": [
    "plt.figure(figsize=(10,5))\n",
    "sns.boxenplot(x=student['Department'],y=student['college mark'])"
   ]
  },
  {
   "cell_type": "code",
   "execution_count": 11,
   "id": "28334be8",
   "metadata": {},
   "outputs": [
    {
     "data": {
      "text/plain": [
       "<Axes: xlabel='Department', ylabel='count'>"
      ]
     },
     "execution_count": 11,
     "metadata": {},
     "output_type": "execute_result"
    },
    {
     "data": {
      "image/png": "[encoded data removed]",
      "text/plain": [
       "<Figure size 640x480 with 1 Axes>"
      ]
     },
     "metadata": {},
     "output_type": "display_data"
    }
   ],
   "source": [
    "sns.countplot(x=student['Department'])"
   ]
  },
  {
   "cell_type": "code",
   "execution_count": 12,
   "id": "a7201412",
   "metadata": {},
   "outputs": [
    {
     "data": {
      "text/plain": [
       "Index(['Certification Course', 'Gender', 'Department', 'Height(CM)',\n",
       "       'Weight(KG)', '10th Mark', '12th Mark', 'college mark', 'hobbies',\n",
       "       'daily studing time', 'prefer to study in', 'salary expectation',\n",
       "       'Do you like your degree?',\n",
       "       'willingness to pursue a career based on their degree  ',\n",
       "       'social medai & video', 'Travelling Time ', 'Stress Level ',\n",
       "       'Financial Status', 'part-time job'],\n",
       "      dtype='object')"
      ]
     },
     "execution_count": 12,
     "metadata": {},
     "output_type": "execute_result"
    }
   ],
   "source": [
    "student.columns"
   ]
  },
  {
   "cell_type": "code",
   "execution_count": 13,
   "id": "8e543da0",
   "metadata": {},
   "outputs": [
    {
     "data": {
      "text/plain": [
       "array(['Bad', 'good', 'Awful', 'Fabulous'], dtype=object)"
      ]
     },
     "execution_count": 13,
     "metadata": {},
     "output_type": "execute_result"
    }
   ],
   "source": [
    "student['Financial Status'].unique()"
   ]
  },
  {
   "cell_type": "code",
   "execution_count": 14,
   "id": "64bfc608",
   "metadata": {},
   "outputs": [],
   "source": [
    "student['Financial Status']=student['Financial Status'].map({'Bad':0,'good':1,'Awful':2,'Fabulous':3})"
   ]
  },
  {
   "cell_type": "code",
   "execution_count": 15,
   "id": "4cd2dfc6",
   "metadata": {},
   "outputs": [
    {
     "data": {
      "text/html": [
       "<div>\n",
       "<style scoped>\n",
       "    .dataframe tbody tr th:only-of-type {\n",
       "        vertical-align: middle;\n",
       "    }\n",
       "\n",
       "    .dataframe tbody tr th {\n",
       "        vertical-align: top;\n",
       "    }\n",
       "\n",
       "    .dataframe thead th {\n",
       "        text-align: right;\n",
       "    }\n",
       "</style>\n",
       "<table border=\"1\" class=\"dataframe\">\n",
       "  <thead>\n",
       "    <tr style=\"text-align: right;\">\n",
       "      <th></th>\n",
       "      <th>Certification Course</th>\n",
       "      <th>Gender</th>\n",
       "      <th>Department</th>\n",
       "      <th>Height(CM)</th>\n",
       "      <th>Weight(KG)</th>\n",
       "      <th>10th Mark</th>\n",
       "      <th>12th Mark</th>\n",
       "      <th>college mark</th>\n",
       "      <th>hobbies</th>\n",
       "      <th>daily studing time</th>\n",
       "      <th>prefer to study in</th>\n",
       "      <th>salary expectation</th>\n",
       "      <th>Do you like your degree?</th>\n",
       "      <th>willingness to pursue a career based on their degree</th>\n",
       "      <th>social medai &amp; video</th>\n",
       "      <th>Travelling Time</th>\n",
       "      <th>Stress Level</th>\n",
       "      <th>Financial Status</th>\n",
       "      <th>part-time job</th>\n",
       "    </tr>\n",
       "  </thead>\n",
       "  <tbody>\n",
       "    <tr>\n",
       "      <th>0</th>\n",
       "      <td>No</td>\n",
       "      <td>Male</td>\n",
       "      <td>BCA</td>\n",
       "      <td>100.0</td>\n",
       "      <td>58.0</td>\n",
       "      <td>79.0</td>\n",
       "      <td>64.0</td>\n",
       "      <td>80.0</td>\n",
       "      <td>Video Games</td>\n",
       "      <td>0 - 30 minute</td>\n",
       "      <td>Morning</td>\n",
       "      <td>40000</td>\n",
       "      <td>No</td>\n",
       "      <td>50%</td>\n",
       "      <td>1.30 - 2 hour</td>\n",
       "      <td>30 - 60 minutes</td>\n",
       "      <td>Bad</td>\n",
       "      <td>0</td>\n",
       "      <td>No</td>\n",
       "    </tr>\n",
       "    <tr>\n",
       "      <th>1</th>\n",
       "      <td>No</td>\n",
       "      <td>Female</td>\n",
       "      <td>BCA</td>\n",
       "      <td>90.0</td>\n",
       "      <td>40.0</td>\n",
       "      <td>70.0</td>\n",
       "      <td>80.0</td>\n",
       "      <td>70.0</td>\n",
       "      <td>Cinema</td>\n",
       "      <td>30 - 60 minute</td>\n",
       "      <td>Morning</td>\n",
       "      <td>15000</td>\n",
       "      <td>Yes</td>\n",
       "      <td>75%</td>\n",
       "      <td>1 - 1.30 hour</td>\n",
       "      <td>0 - 30 minutes</td>\n",
       "      <td>Bad</td>\n",
       "      <td>0</td>\n",
       "      <td>No</td>\n",
       "    </tr>\n",
       "    <tr>\n",
       "      <th>2</th>\n",
       "      <td>Yes</td>\n",
       "      <td>Male</td>\n",
       "      <td>BCA</td>\n",
       "      <td>159.0</td>\n",
       "      <td>78.0</td>\n",
       "      <td>71.0</td>\n",
       "      <td>61.0</td>\n",
       "      <td>55.0</td>\n",
       "      <td>Cinema</td>\n",
       "      <td>1 - 2 Hour</td>\n",
       "      <td>Anytime</td>\n",
       "      <td>13000</td>\n",
       "      <td>Yes</td>\n",
       "      <td>50%</td>\n",
       "      <td>More than 2 hour</td>\n",
       "      <td>30 - 60 minutes</td>\n",
       "      <td>Awful</td>\n",
       "      <td>0</td>\n",
       "      <td>No</td>\n",
       "    </tr>\n",
       "    <tr>\n",
       "      <th>3</th>\n",
       "      <td>Yes</td>\n",
       "      <td>Female</td>\n",
       "      <td>BCA</td>\n",
       "      <td>147.0</td>\n",
       "      <td>20.0</td>\n",
       "      <td>70.0</td>\n",
       "      <td>59.0</td>\n",
       "      <td>58.0</td>\n",
       "      <td>Reading books</td>\n",
       "      <td>1 - 2 Hour</td>\n",
       "      <td>Anytime</td>\n",
       "      <td>1500000</td>\n",
       "      <td>No</td>\n",
       "      <td>50%</td>\n",
       "      <td>1.30 - 2 hour</td>\n",
       "      <td>0 - 30 minutes</td>\n",
       "      <td>Bad</td>\n",
       "      <td>1</td>\n",
       "      <td>No</td>\n",
       "    </tr>\n",
       "  </tbody>\n",
       "</table>\n",
       "</div>"
      ],
      "text/plain": [
       "  Certification Course  Gender Department  Height(CM)  Weight(KG)  10th Mark  \\\n",
       "0                   No    Male        BCA       100.0        58.0       79.0   \n",
       "1                   No  Female        BCA        90.0        40.0       70.0   \n",
       "2                  Yes    Male        BCA       159.0        78.0       71.0   \n",
       "3                  Yes  Female        BCA       147.0        20.0       70.0   \n",
       "\n",
       "   12th Mark  college mark        hobbies daily studing time  \\\n",
       "0       64.0          80.0    Video Games      0 - 30 minute   \n",
       "1       80.0          70.0         Cinema     30 - 60 minute   \n",
       "2       61.0          55.0         Cinema         1 - 2 Hour   \n",
       "3       59.0          58.0  Reading books         1 - 2 Hour   \n",
       "\n",
       "  prefer to study in  salary expectation Do you like your degree?  \\\n",
       "0            Morning               40000                       No   \n",
       "1            Morning               15000                      Yes   \n",
       "2            Anytime               13000                      Yes   \n",
       "3            Anytime             1500000                       No   \n",
       "\n",
       "  willingness to pursue a career based on their degree   social medai & video  \\\n",
       "0                                                50%            1.30 - 2 hour   \n",
       "1                                                75%            1 - 1.30 hour   \n",
       "2                                                50%         More than 2 hour   \n",
       "3                                                50%            1.30 - 2 hour   \n",
       "\n",
       "  Travelling Time  Stress Level   Financial Status part-time job  \n",
       "0  30 - 60 minutes           Bad                 0            No  \n",
       "1   0 - 30 minutes           Bad                 0            No  \n",
       "2  30 - 60 minutes         Awful                 0            No  \n",
       "3   0 - 30 minutes           Bad                 1            No  "
      ]
     },
     "execution_count": 15,
     "metadata": {},
     "output_type": "execute_result"
    }
   ],
   "source": [
    "student.head(4)"
   ]
  },
  {
   "cell_type": "code",
   "execution_count": 16,
   "id": "f7365386",
   "metadata": {},
   "outputs": [
    {
     "data": {
      "text/plain": [
       "array(['No', 'Yes'], dtype=object)"
      ]
     },
     "execution_count": 16,
     "metadata": {},
     "output_type": "execute_result"
    }
   ],
   "source": [
    "student['part-time job'].unique()"
   ]
  },
  {
   "cell_type": "code",
   "execution_count": 17,
   "id": "4cac01de",
   "metadata": {},
   "outputs": [
    {
     "data": {
      "text/plain": [
       "array(['No', 'Yes'], dtype=object)"
      ]
     },
     "execution_count": 17,
     "metadata": {},
     "output_type": "execute_result"
    }
   ],
   "source": [
    "student['Certification Course'].unique()"
   ]
  },
  {
   "cell_type": "code",
   "execution_count": 18,
   "id": "4b432e9a",
   "metadata": {},
   "outputs": [
    {
     "data": {
      "text/plain": [
       "array(['Male', 'Female'], dtype=object)"
      ]
     },
     "execution_count": 18,
     "metadata": {},
     "output_type": "execute_result"
    }
   ],
   "source": [
    "student['Gender'].unique()"
   ]
  },
  {
   "cell_type": "code",
   "execution_count": 19,
   "id": "86722a8a",
   "metadata": {},
   "outputs": [],
   "source": [
    "student['Gender']=student['Gender'].map({'Male':0,'Female':1})\n",
    "student['Certification Course']=student['Certification Course'].map({'No':0,'Yes':1})"
   ]
  },
  {
   "cell_type": "code",
   "execution_count": 20,
   "id": "1c9b90dd",
   "metadata": {},
   "outputs": [
    {
     "data": {
      "text/plain": [
       "Certification Course                                        int64\n",
       "Gender                                                      int64\n",
       "Department                                                 object\n",
       "Height(CM)                                                float64\n",
       "Weight(KG)                                                float64\n",
       "10th Mark                                                 float64\n",
       "12th Mark                                                 float64\n",
       "college mark                                              float64\n",
       "hobbies                                                    object\n",
       "daily studing time                                         object\n",
       "prefer to study in                                         object\n",
       "salary expectation                                          int64\n",
       "Do you like your degree?                                   object\n",
       "willingness to pursue a career based on their degree       object\n",
       "social medai & video                                       object\n",
       "Travelling Time                                            object\n",
       "Stress Level                                               object\n",
       "Financial Status                                            int64\n",
       "part-time job                                              object\n",
       "dtype: object"
      ]
     },
     "execution_count": 20,
     "metadata": {},
     "output_type": "execute_result"
    }
   ],
   "source": [
    "student.dtypes"
   ]
  },
  {
   "cell_type": "code",
   "execution_count": 21,
   "id": "a6f8d276",
   "metadata": {},
   "outputs": [],
   "source": [
    "from sklearn.preprocessing import LabelEncoder\n",
    "encoder= LabelEncoder()"
   ]
  },
  {
   "cell_type": "code",
   "execution_count": 22,
   "id": "e71f1ec8",
   "metadata": {},
   "outputs": [],
   "source": [
    "student['Department']=encoder.fit_transform(student['Department'])\n",
    "student['hobbies']=encoder.fit_transform(student['hobbies'])\n",
    "student['daily studing time']=encoder.fit_transform(student['daily studing time'])\n",
    "student['prefer to study in']=encoder.fit_transform(student['prefer to study in'])\n",
    "student['Do you like your degree?']=encoder.fit_transform(student['Do you like your degree?'])\n",
    "student['Stress Level ']=encoder.fit_transform(student['Stress Level '])\n",
    "student['part-time job']=encoder.fit_transform(student['part-time job'])\n"
   ]
  },
  {
   "cell_type": "code",
   "execution_count": 23,
   "id": "b4b4f5b0",
   "metadata": {},
   "outputs": [
    {
     "data": {
      "text/plain": [
       "Certification Course                                        int64\n",
       "Gender                                                      int64\n",
       "Department                                                  int32\n",
       "Height(CM)                                                float64\n",
       "Weight(KG)                                                float64\n",
       "10th Mark                                                 float64\n",
       "12th Mark                                                 float64\n",
       "college mark                                              float64\n",
       "hobbies                                                     int32\n",
       "daily studing time                                          int32\n",
       "prefer to study in                                          int32\n",
       "salary expectation                                          int64\n",
       "Do you like your degree?                                    int32\n",
       "willingness to pursue a career based on their degree       object\n",
       "social medai & video                                       object\n",
       "Travelling Time                                            object\n",
       "Stress Level                                                int32\n",
       "Financial Status                                            int64\n",
       "part-time job                                               int32\n",
       "dtype: object"
      ]
     },
     "execution_count": 23,
     "metadata": {},
     "output_type": "execute_result"
    }
   ],
   "source": [
    "student.dtypes"
   ]
  },
  {
   "cell_type": "code",
   "execution_count": 25,
   "id": "aac5338c",
   "metadata": {},
   "outputs": [
    {
     "data": {
      "text/html": [
       "<div>\n",
       "<style scoped>\n",
       "    .dataframe tbody tr th:only-of-type {\n",
       "        vertical-align: middle;\n",
       "    }\n",
       "\n",
       "    .dataframe tbody tr th {\n",
       "        vertical-align: top;\n",
       "    }\n",
       "\n",
       "    .dataframe thead th {\n",
       "        text-align: right;\n",
       "    }\n",
       "</style>\n",
       "<table border=\"1\" class=\"dataframe\">\n",
       "  <thead>\n",
       "    <tr style=\"text-align: right;\">\n",
       "      <th></th>\n",
       "      <th>Certification Course</th>\n",
       "      <th>Gender</th>\n",
       "      <th>Department</th>\n",
       "      <th>Height(CM)</th>\n",
       "      <th>Weight(KG)</th>\n",
       "      <th>10th Mark</th>\n",
       "      <th>12th Mark</th>\n",
       "      <th>college mark</th>\n",
       "      <th>hobbies</th>\n",
       "      <th>daily studing time</th>\n",
       "      <th>prefer to study in</th>\n",
       "      <th>salary expectation</th>\n",
       "      <th>Do you like your degree?</th>\n",
       "      <th>willingness to pursue a career based on their degree</th>\n",
       "      <th>social medai &amp; video</th>\n",
       "      <th>Travelling Time</th>\n",
       "      <th>Stress Level</th>\n",
       "      <th>Financial Status</th>\n",
       "      <th>part-time job</th>\n",
       "    </tr>\n",
       "  </thead>\n",
       "  <tbody>\n",
       "    <tr>\n",
       "      <th>0</th>\n",
       "      <td>0</td>\n",
       "      <td>0</td>\n",
       "      <td>2</td>\n",
       "      <td>100.0</td>\n",
       "      <td>58.0</td>\n",
       "      <td>79.0</td>\n",
       "      <td>64.0</td>\n",
       "      <td>80.0</td>\n",
       "      <td>3</td>\n",
       "      <td>0</td>\n",
       "      <td>1</td>\n",
       "      <td>40000</td>\n",
       "      <td>0</td>\n",
       "      <td>50%</td>\n",
       "      <td>1.30 - 2 hour</td>\n",
       "      <td>30 - 60 minutes</td>\n",
       "      <td>1</td>\n",
       "      <td>0</td>\n",
       "      <td>0</td>\n",
       "    </tr>\n",
       "    <tr>\n",
       "      <th>1</th>\n",
       "      <td>0</td>\n",
       "      <td>1</td>\n",
       "      <td>2</td>\n",
       "      <td>90.0</td>\n",
       "      <td>40.0</td>\n",
       "      <td>70.0</td>\n",
       "      <td>80.0</td>\n",
       "      <td>70.0</td>\n",
       "      <td>0</td>\n",
       "      <td>4</td>\n",
       "      <td>1</td>\n",
       "      <td>15000</td>\n",
       "      <td>1</td>\n",
       "      <td>75%</td>\n",
       "      <td>1 - 1.30 hour</td>\n",
       "      <td>0 - 30 minutes</td>\n",
       "      <td>1</td>\n",
       "      <td>0</td>\n",
       "      <td>0</td>\n",
       "    </tr>\n",
       "    <tr>\n",
       "      <th>2</th>\n",
       "      <td>1</td>\n",
       "      <td>0</td>\n",
       "      <td>2</td>\n",
       "      <td>159.0</td>\n",
       "      <td>78.0</td>\n",
       "      <td>71.0</td>\n",
       "      <td>61.0</td>\n",
       "      <td>55.0</td>\n",
       "      <td>0</td>\n",
       "      <td>1</td>\n",
       "      <td>0</td>\n",
       "      <td>13000</td>\n",
       "      <td>1</td>\n",
       "      <td>50%</td>\n",
       "      <td>More than 2 hour</td>\n",
       "      <td>30 - 60 minutes</td>\n",
       "      <td>0</td>\n",
       "      <td>0</td>\n",
       "      <td>0</td>\n",
       "    </tr>\n",
       "    <tr>\n",
       "      <th>3</th>\n",
       "      <td>1</td>\n",
       "      <td>1</td>\n",
       "      <td>2</td>\n",
       "      <td>147.0</td>\n",
       "      <td>20.0</td>\n",
       "      <td>70.0</td>\n",
       "      <td>59.0</td>\n",
       "      <td>58.0</td>\n",
       "      <td>1</td>\n",
       "      <td>1</td>\n",
       "      <td>0</td>\n",
       "      <td>1500000</td>\n",
       "      <td>0</td>\n",
       "      <td>50%</td>\n",
       "      <td>1.30 - 2 hour</td>\n",
       "      <td>0 - 30 minutes</td>\n",
       "      <td>1</td>\n",
       "      <td>1</td>\n",
       "      <td>0</td>\n",
       "    </tr>\n",
       "  </tbody>\n",
       "</table>\n",
       "</div>"
      ],
      "text/plain": [
       "   Certification Course  Gender  Department  Height(CM)  Weight(KG)  \\\n",
       "0                     0       0           2       100.0        58.0   \n",
       "1                     0       1           2        90.0        40.0   \n",
       "2                     1       0           2       159.0        78.0   \n",
       "3                     1       1           2       147.0        20.0   \n",
       "\n",
       "   10th Mark  12th Mark  college mark  hobbies  daily studing time  \\\n",
       "0       79.0       64.0          80.0        3                   0   \n",
       "1       70.0       80.0          70.0        0                   4   \n",
       "2       71.0       61.0          55.0        0                   1   \n",
       "3       70.0       59.0          58.0        1                   1   \n",
       "\n",
       "   prefer to study in  salary expectation  Do you like your degree?  \\\n",
       "0                   1               40000                         0   \n",
       "1                   1               15000                         1   \n",
       "2                   0               13000                         1   \n",
       "3                   0             1500000                         0   \n",
       "\n",
       "  willingness to pursue a career based on their degree   social medai & video  \\\n",
       "0                                                50%            1.30 - 2 hour   \n",
       "1                                                75%            1 - 1.30 hour   \n",
       "2                                                50%         More than 2 hour   \n",
       "3                                                50%            1.30 - 2 hour   \n",
       "\n",
       "  Travelling Time   Stress Level   Financial Status  part-time job  \n",
       "0  30 - 60 minutes              1                 0              0  \n",
       "1   0 - 30 minutes              1                 0              0  \n",
       "2  30 - 60 minutes              0                 0              0  \n",
       "3   0 - 30 minutes              1                 1              0  "
      ]
     },
     "execution_count": 25,
     "metadata": {},
     "output_type": "execute_result"
    }
   ],
   "source": [
    "student.head(4)"
   ]
  },
  {
   "cell_type": "code",
   "execution_count": 26,
   "id": "277da79e",
   "metadata": {},
   "outputs": [
    {
     "data": {
      "text/plain": [
       "Certification Course                                      0\n",
       "Gender                                                    0\n",
       "Department                                                0\n",
       "Height(CM)                                                0\n",
       "Weight(KG)                                                0\n",
       "10th Mark                                                 0\n",
       "12th Mark                                                 0\n",
       "college mark                                              0\n",
       "hobbies                                                   0\n",
       "daily studing time                                        0\n",
       "prefer to study in                                        0\n",
       "salary expectation                                        0\n",
       "Do you like your degree?                                  0\n",
       "willingness to pursue a career based on their degree      0\n",
       "social medai & video                                      0\n",
       "Travelling Time                                           0\n",
       "Stress Level                                              0\n",
       "Financial Status                                          0\n",
       "part-time job                                             0\n",
       "dtype: int64"
      ]
     },
     "execution_count": 26,
     "metadata": {},
     "output_type": "execute_result"
    }
   ],
   "source": [
    "student.isnull().sum()"
   ]
  },
  {
   "cell_type": "code",
   "execution_count": 27,
   "id": "51f94953",
   "metadata": {},
   "outputs": [
    {
     "data": {
      "text/plain": [
       "Index(['Certification Course', 'Gender', 'Department', 'Height(CM)',\n",
       "       'Weight(KG)', '10th Mark', '12th Mark', 'college mark', 'hobbies',\n",
       "       'daily studing time', 'prefer to study in', 'salary expectation',\n",
       "       'Do you like your degree?',\n",
       "       'willingness to pursue a career based on their degree  ',\n",
       "       'social medai & video', 'Travelling Time ', 'Stress Level ',\n",
       "       'Financial Status', 'part-time job'],\n",
       "      dtype='object')"
      ]
     },
     "execution_count": 27,
     "metadata": {},
     "output_type": "execute_result"
    }
   ],
   "source": [
    "student.columns"
   ]
  },
  {
   "cell_type": "code",
   "execution_count": 28,
   "id": "3cb08039",
   "metadata": {},
   "outputs": [],
   "source": [
    "student['willingness to pursue a career based on their degree  ']=student['willingness to pursue a career based on their degree  '].str[0:2]"
   ]
  },
  {
   "cell_type": "code",
   "execution_count": 29,
   "id": "75217040",
   "metadata": {},
   "outputs": [
    {
     "data": {
      "text/html": [
       "<div>\n",
       "<style scoped>\n",
       "    .dataframe tbody tr th:only-of-type {\n",
       "        vertical-align: middle;\n",
       "    }\n",
       "\n",
       "    .dataframe tbody tr th {\n",
       "        vertical-align: top;\n",
       "    }\n",
       "\n",
       "    .dataframe thead th {\n",
       "        text-align: right;\n",
       "    }\n",
       "</style>\n",
       "<table border=\"1\" class=\"dataframe\">\n",
       "  <thead>\n",
       "    <tr style=\"text-align: right;\">\n",
       "      <th></th>\n",
       "      <th>Certification Course</th>\n",
       "      <th>Gender</th>\n",
       "      <th>Department</th>\n",
       "      <th>Height(CM)</th>\n",
       "      <th>Weight(KG)</th>\n",
       "      <th>10th Mark</th>\n",
       "      <th>12th Mark</th>\n",
       "      <th>college mark</th>\n",
       "      <th>hobbies</th>\n",
       "      <th>daily studing time</th>\n",
       "      <th>prefer to study in</th>\n",
       "      <th>salary expectation</th>\n",
       "      <th>Do you like your degree?</th>\n",
       "      <th>willingness to pursue a career based on their degree</th>\n",
       "      <th>social medai &amp; video</th>\n",
       "      <th>Travelling Time</th>\n",
       "      <th>Stress Level</th>\n",
       "      <th>Financial Status</th>\n",
       "      <th>part-time job</th>\n",
       "    </tr>\n",
       "  </thead>\n",
       "  <tbody>\n",
       "    <tr>\n",
       "      <th>0</th>\n",
       "      <td>0</td>\n",
       "      <td>0</td>\n",
       "      <td>2</td>\n",
       "      <td>100.0</td>\n",
       "      <td>58.0</td>\n",
       "      <td>79.0</td>\n",
       "      <td>64.0</td>\n",
       "      <td>80.0</td>\n",
       "      <td>3</td>\n",
       "      <td>0</td>\n",
       "      <td>1</td>\n",
       "      <td>40000</td>\n",
       "      <td>0</td>\n",
       "      <td>50</td>\n",
       "      <td>1.30 - 2 hour</td>\n",
       "      <td>30 - 60 minutes</td>\n",
       "      <td>1</td>\n",
       "      <td>0</td>\n",
       "      <td>0</td>\n",
       "    </tr>\n",
       "    <tr>\n",
       "      <th>1</th>\n",
       "      <td>0</td>\n",
       "      <td>1</td>\n",
       "      <td>2</td>\n",
       "      <td>90.0</td>\n",
       "      <td>40.0</td>\n",
       "      <td>70.0</td>\n",
       "      <td>80.0</td>\n",
       "      <td>70.0</td>\n",
       "      <td>0</td>\n",
       "      <td>4</td>\n",
       "      <td>1</td>\n",
       "      <td>15000</td>\n",
       "      <td>1</td>\n",
       "      <td>75</td>\n",
       "      <td>1 - 1.30 hour</td>\n",
       "      <td>0 - 30 minutes</td>\n",
       "      <td>1</td>\n",
       "      <td>0</td>\n",
       "      <td>0</td>\n",
       "    </tr>\n",
       "    <tr>\n",
       "      <th>2</th>\n",
       "      <td>1</td>\n",
       "      <td>0</td>\n",
       "      <td>2</td>\n",
       "      <td>159.0</td>\n",
       "      <td>78.0</td>\n",
       "      <td>71.0</td>\n",
       "      <td>61.0</td>\n",
       "      <td>55.0</td>\n",
       "      <td>0</td>\n",
       "      <td>1</td>\n",
       "      <td>0</td>\n",
       "      <td>13000</td>\n",
       "      <td>1</td>\n",
       "      <td>50</td>\n",
       "      <td>More than 2 hour</td>\n",
       "      <td>30 - 60 minutes</td>\n",
       "      <td>0</td>\n",
       "      <td>0</td>\n",
       "      <td>0</td>\n",
       "    </tr>\n",
       "  </tbody>\n",
       "</table>\n",
       "</div>"
      ],
      "text/plain": [
       "   Certification Course  Gender  Department  Height(CM)  Weight(KG)  \\\n",
       "0                     0       0           2       100.0        58.0   \n",
       "1                     0       1           2        90.0        40.0   \n",
       "2                     1       0           2       159.0        78.0   \n",
       "\n",
       "   10th Mark  12th Mark  college mark  hobbies  daily studing time  \\\n",
       "0       79.0       64.0          80.0        3                   0   \n",
       "1       70.0       80.0          70.0        0                   4   \n",
       "2       71.0       61.0          55.0        0                   1   \n",
       "\n",
       "   prefer to study in  salary expectation  Do you like your degree?  \\\n",
       "0                   1               40000                         0   \n",
       "1                   1               15000                         1   \n",
       "2                   0               13000                         1   \n",
       "\n",
       "  willingness to pursue a career based on their degree   social medai & video  \\\n",
       "0                                                 50            1.30 - 2 hour   \n",
       "1                                                 75            1 - 1.30 hour   \n",
       "2                                                 50         More than 2 hour   \n",
       "\n",
       "  Travelling Time   Stress Level   Financial Status  part-time job  \n",
       "0  30 - 60 minutes              1                 0              0  \n",
       "1   0 - 30 minutes              1                 0              0  \n",
       "2  30 - 60 minutes              0                 0              0  "
      ]
     },
     "execution_count": 29,
     "metadata": {},
     "output_type": "execute_result"
    }
   ],
   "source": [
    "student.head(3)"
   ]
  },
  {
   "cell_type": "code",
   "execution_count": 30,
   "id": "ce6b835d",
   "metadata": {},
   "outputs": [
    {
     "data": {
      "text/plain": [
       "Index(['Certification Course', 'Gender', 'Department', 'Height(CM)',\n",
       "       'Weight(KG)', '10th Mark', '12th Mark', 'college mark', 'hobbies',\n",
       "       'daily studing time', 'prefer to study in', 'salary expectation',\n",
       "       'Do you like your degree?',\n",
       "       'willingness to pursue a career based on their degree  ',\n",
       "       'social medai & video', 'Travelling Time ', 'Stress Level ',\n",
       "       'Financial Status', 'part-time job'],\n",
       "      dtype='object')"
      ]
     },
     "execution_count": 30,
     "metadata": {},
     "output_type": "execute_result"
    }
   ],
   "source": [
    "student.columns"
   ]
  },
  {
   "cell_type": "code",
   "execution_count": 32,
   "id": "6c87cf37",
   "metadata": {},
   "outputs": [],
   "source": [
    "student['willingness to pursue a career based on their degree  ']=pd.to_numeric(student['willingness to pursue a career based on their degree  '],errors='coerce')"
   ]
  },
  {
   "cell_type": "code",
   "execution_count": 33,
   "id": "3a84827e",
   "metadata": {},
   "outputs": [
    {
     "data": {
      "text/plain": [
       "Certification Course                                        int64\n",
       "Gender                                                      int64\n",
       "Department                                                  int32\n",
       "Height(CM)                                                float64\n",
       "Weight(KG)                                                float64\n",
       "10th Mark                                                 float64\n",
       "12th Mark                                                 float64\n",
       "college mark                                              float64\n",
       "hobbies                                                     int32\n",
       "daily studing time                                          int32\n",
       "prefer to study in                                          int32\n",
       "salary expectation                                          int64\n",
       "Do you like your degree?                                    int32\n",
       "willingness to pursue a career based on their degree      float64\n",
       "social medai & video                                       object\n",
       "Travelling Time                                            object\n",
       "Stress Level                                                int32\n",
       "Financial Status                                            int64\n",
       "part-time job                                               int32\n",
       "dtype: object"
      ]
     },
     "execution_count": 33,
     "metadata": {},
     "output_type": "execute_result"
    }
   ],
   "source": [
    "student.dtypes"
   ]
  },
  {
   "cell_type": "code",
   "execution_count": 36,
   "id": "f71c8ddf",
   "metadata": {},
   "outputs": [
    {
     "data": {
      "text/plain": [
       "30 - 60 Minute      69\n",
       "1 - 1.30 hour       55\n",
       "1 - 30 Minute       47\n",
       "More than 2 hour    32\n",
       "1.30 - 2 hour       27\n",
       "0 Minute             5\n",
       "Name: social medai & video, dtype: int64"
      ]
     },
     "execution_count": 36,
     "metadata": {},
     "output_type": "execute_result"
    }
   ],
   "source": [
    "student['social medai & video'].value_counts()"
   ]
  },
  {
   "cell_type": "code",
   "execution_count": 41,
   "id": "3b2efce7",
   "metadata": {},
   "outputs": [
    {
     "data": {
      "text/plain": [
       "30 - 60 minutes     80\n",
       "0 - 30 minutes      55\n",
       "1 - 1.30 hour       51\n",
       "1.30 - 2 hour       18\n",
       "2 - 2.30 hour       14\n",
       "more than 3 hour    10\n",
       "2.30 - 3 hour        7\n",
       "Name: Travelling Time , dtype: int64"
      ]
     },
     "execution_count": 41,
     "metadata": {},
     "output_type": "execute_result"
    }
   ],
   "source": [
    "student['Travelling Time '].value_counts()"
   ]
  },
  {
   "cell_type": "code",
   "execution_count": 42,
   "id": "411578e0",
   "metadata": {},
   "outputs": [],
   "source": [
    "student.drop('social medai & video',inplace=True,axis=1)\n",
    "student.drop('Travelling Time ',inplace=True,axis=1)"
   ]
  },
  {
   "cell_type": "code",
   "execution_count": 43,
   "id": "2b6d21ca",
   "metadata": {},
   "outputs": [
    {
     "data": {
      "text/plain": [
       "Certification Course                                        int64\n",
       "Gender                                                      int64\n",
       "Department                                                  int32\n",
       "Height(CM)                                                float64\n",
       "Weight(KG)                                                float64\n",
       "10th Mark                                                 float64\n",
       "12th Mark                                                 float64\n",
       "college mark                                              float64\n",
       "hobbies                                                     int32\n",
       "daily studing time                                          int32\n",
       "prefer to study in                                          int32\n",
       "salary expectation                                          int64\n",
       "Do you like your degree?                                    int32\n",
       "willingness to pursue a career based on their degree      float64\n",
       "Stress Level                                                int32\n",
       "Financial Status                                            int64\n",
       "part-time job                                               int32\n",
       "dtype: object"
      ]
     },
     "execution_count": 43,
     "metadata": {},
     "output_type": "execute_result"
    }
   ],
   "source": [
    "student.dtypes"
   ]
  },
  {
   "cell_type": "code",
   "execution_count": 46,
   "id": "b6cdb187",
   "metadata": {},
   "outputs": [
    {
     "data": {
      "text/plain": [
       "Certification Course                                      0\n",
       "Gender                                                    0\n",
       "Department                                                0\n",
       "Height(CM)                                                0\n",
       "Weight(KG)                                                0\n",
       "10th Mark                                                 0\n",
       "12th Mark                                                 0\n",
       "college mark                                              0\n",
       "hobbies                                                   0\n",
       "daily studing time                                        0\n",
       "prefer to study in                                        0\n",
       "salary expectation                                        0\n",
       "Do you like your degree?                                  0\n",
       "willingness to pursue a career based on their degree      0\n",
       "Stress Level                                              0\n",
       "Financial Status                                          0\n",
       "part-time job                                             0\n",
       "dtype: int64"
      ]
     },
     "execution_count": 46,
     "metadata": {},
     "output_type": "execute_result"
    }
   ],
   "source": [
    "student.isnull().sum()"
   ]
  },
  {
   "cell_type": "code",
   "execution_count": 45,
   "id": "740f980f",
   "metadata": {},
   "outputs": [],
   "source": [
    "student.dropna(inplace=True)"
   ]
  },
  {
   "cell_type": "code",
   "execution_count": 47,
   "id": "300a6490",
   "metadata": {},
   "outputs": [],
   "source": [
    "x=student.drop('Financial Status',axis=1)"
   ]
  },
  {
   "cell_type": "code",
   "execution_count": 48,
   "id": "4a9bb67c",
   "metadata": {},
   "outputs": [],
   "source": [
    "y=student['Financial Status']"
   ]
  },
  {
   "cell_type": "code",
   "execution_count": 49,
   "id": "c7d54ecb",
   "metadata": {},
   "outputs": [],
   "source": [
    "from sklearn.model_selection import train_test_split"
   ]
  },
  {
   "cell_type": "code",
   "execution_count": 52,
   "id": "03271134",
   "metadata": {},
   "outputs": [],
   "source": [
    "X_train,X_test,y_train,y_test=train_test_split(x,y,test_size=0.2)"
   ]
  },
  {
   "cell_type": "code",
   "execution_count": 53,
   "id": "a6761fdd",
   "metadata": {},
   "outputs": [
    {
     "name": "stdout",
     "output_type": "stream",
     "text": [
      "(186, 16)\n",
      "(186,)\n",
      "(47, 16)\n",
      "(47,)\n"
     ]
    }
   ],
   "source": [
    "print(X_train.shape)\n",
    "print(y_train.shape)\n",
    "print(X_test.shape)\n",
    "print(y_test.shape)"
   ]
  },
  {
   "cell_type": "code",
   "execution_count": 54,
   "id": "5f721c94",
   "metadata": {},
   "outputs": [],
   "source": [
    "from sklearn.ensemble import GradientBoostingClassifier \n",
    "from sklearn.metrics import accuracy_score,mean_squared_error,mean_absolute_error,r2_score,confusion_matrix"
   ]
  },
  {
   "cell_type": "code",
   "execution_count": 57,
   "id": "1c579757",
   "metadata": {},
   "outputs": [
    {
     "name": "stdout",
     "output_type": "stream",
     "text": [
      "[[ 6 15  0  1]\n",
      " [ 9 13  0  0]\n",
      " [ 1  2  0  0]\n",
      " [ 0  0  0  0]]\n",
      "Accuracy: 0.40425531914893614\n",
      "Mean Squared Error: 0.8297872340425532\n",
      "Mean Absolute Error: 0.6595744680851063\n"
     ]
    }
   ],
   "source": [
    "Gradi=GradientBoostingClassifier()\n",
    "Gradi.fit(X_train,y_train)\n",
    "y_pred=Gradi.predict(X_test)\n",
    "Acc=accuracy_score(y_test,y_pred)\n",
    "mse=mean_squared_error(y_test,y_pred)\n",
    "mae=mean_absolute_error(y_test,y_pred)\n",
    "Gradi.score(X_train,y_train)\n",
    "cnc=confusion_matrix(y_test,y_pred)\n",
    "print(cnc)\n",
    "print(\"Accuracy:\",Acc)\n",
    "print(\"Mean Squared Error:\",mse)\n",
    "print(\"Mean Absolute Error:\",mae)\n",
    "\n"
   ]
  },
  {
   "cell_type": "code",
   "execution_count": 58,
   "id": "8dd3842c",
   "metadata": {},
   "outputs": [
    {
     "name": "stdout",
     "output_type": "stream",
     "text": [
      "Actual Values: 33     0\n",
      "83     2\n",
      "151    1\n",
      "157    0\n",
      "103    0\n",
      "Name: Financial Status, dtype: int64\n",
      "predicted Values: [1 0 1 1 1]\n"
     ]
    }
   ],
   "source": [
    "actual_value=y_test\n",
    "predicted=y_pred\n",
    "print(\"Actual Values:\",actual_value[:5])\n",
    "print(\"predicted Values:\",predicted[:5])\n"
   ]
  },
  {
   "cell_type": "code",
   "execution_count": 59,
   "id": "0cb42c63",
   "metadata": {},
   "outputs": [
    {
     "data": {
      "text/plain": [
       "Text(0.5, 1.0, 'Actual Value Vs Predicated Value')"
      ]
     },
     "execution_count": 59,
     "metadata": {},
     "output_type": "execute_result"
    },
    {
     "data": {
      "image/png": "[encoded data removed]",
      "text/plain": [
       "<Figure size 640x480 with 1 Axes>"
      ]
     },
     "metadata": {},
     "output_type": "display_data"
    }
   ],
   "source": [
    "sns.regplot(x=actual_value,y=predicted)\n",
    "plt.xlabel(\"Actual Value\")\n",
    "plt.ylabel(\"Predicated Value\")\n",
    "plt.title(\"Actual Value Vs Predicated Value\")"
   ]
  },
  {
   "cell_type": "code",
   "execution_count": 60,
   "id": "08a688e3",
   "metadata": {},
   "outputs": [
    {
     "data": {
      "text/plain": [
       "<Axes: >"
      ]
     },
     "execution_count": 60,
     "metadata": {},
     "output_type": "execute_result"
    },
    {
     "data": {
      "image/png": "[encoded data removed]",
      "text/plain": [
       "<Figure size 640x480 with 2 Axes>"
      ]
     },
     "metadata": {},
     "output_type": "display_data"
    }
   ],
   "source": [
    "\n",
    "sns.heatmap(cnc,annot=True,fmt=\"d\",cmap='viridis')\n"
   ]
  },
  {
   "cell_type": "code",
   "execution_count": 61,
   "id": "afcafdc7",
   "metadata": {},
   "outputs": [
    {
     "data": {
      "text/plain": [
       "array([1, 0, 1, 1, 1, 1, 0, 1, 0, 1, 1, 0, 1, 1, 0, 1, 1, 1, 0, 1, 1, 1,\n",
       "       0, 1, 1, 1, 0, 1, 1, 0, 1, 0, 1, 1, 0, 0, 0, 0, 1, 1, 0, 3, 1, 0,\n",
       "       1, 1, 1], dtype=int64)"
      ]
     },
     "execution_count": 61,
     "metadata": {},
     "output_type": "execute_result"
    }
   ],
   "source": [
    "y_pred"
   ]
  },
  {
   "cell_type": "code",
   "execution_count": null,
   "id": "c94a2183",
   "metadata": {},
   "outputs": [],
   "source": []
  }
 ],
 "metadata": {
  "kernelspec": {
   "display_name": "Python 3 (ipykernel)",
   "language": "python",
   "name": "python3"
  },
  "language_info": {
   "codemirror_mode": {
    "name": "ipython",
    "version": 3
   },
   "file_extension": ".py",
   "mimetype": "text/x-python",
   "name": "python",
   "nbconvert_exporter": "python",
   "pygments_lexer": "ipython3",
   "version": "3.11.4"
  }
 },
 "nbformat": 4,
 "nbformat_minor": 5
}
